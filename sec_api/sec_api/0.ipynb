{
 "cells": [
  {
   "cell_type": "code",
   "execution_count": 1,
   "metadata": {},
   "outputs": [],
   "source": [
    "# -*- coding: utf-8 -*-\n",
    "\"\"\"\n",
    "\n",
    "SEC Filing Scraper\n",
    "@author: AdamGetbags\n",
    "\n",
    "\"\"\"\n",
    "\n",
    "# import modules\n",
    "import requests\n",
    "import pandas as pd\n",
    "\n",
    "# create request header\n",
    "headers = {'User-Agent': \"email@address.com\"}\n",
    "\n",
    "# get all companies data\n",
    "companyTickers = requests.get(\n",
    "    \"https://www.sec.gov/files/company_tickers.json\",\n",
    "    headers=headers\n",
    "    )\n",
    "\n",
    "\n"
   ]
  },
  {
   "cell_type": "code",
   "execution_count": null,
   "metadata": {},
   "outputs": [],
   "source": [
    "from dataclasses import dataclass\n",
    "\n",
    "@dataclass\n",
    "class Transform:\n",
    "    pass"
   ]
  },
  {
   "cell_type": "code",
   "execution_count": 2,
   "metadata": {},
   "outputs": [],
   "source": [
    "import duckdb"
   ]
  },
  {
   "cell_type": "code",
   "execution_count": 1,
   "metadata": {},
   "outputs": [
    {
     "ename": "NameError",
     "evalue": "name 'companyTickers' is not defined",
     "output_type": "error",
     "traceback": [
      "\u001b[0;31m---------------------------------------------------------------------------\u001b[0m",
      "\u001b[0;31mNameError\u001b[0m                                 Traceback (most recent call last)",
      "Cell \u001b[0;32mIn[1], line 3\u001b[0m\n\u001b[1;32m      1\u001b[0m \u001b[38;5;28;01mfrom\u001b[39;00m \u001b[38;5;21;01mdatetime\u001b[39;00m \u001b[38;5;28;01mimport\u001b[39;00m datetime\n\u001b[1;32m      2\u001b[0m \u001b[38;5;66;03m# review response / keys\u001b[39;00m\n\u001b[0;32m----> 3\u001b[0m \u001b[38;5;28mprint\u001b[39m(\u001b[43mcompanyTickers\u001b[49m\u001b[38;5;241m.\u001b[39mjson()\u001b[38;5;241m.\u001b[39mkeys())\n\u001b[1;32m      5\u001b[0m \u001b[38;5;66;03m# format response to dictionary and get first key/value\u001b[39;00m\n\u001b[1;32m      6\u001b[0m firstEntry \u001b[38;5;241m=\u001b[39m companyTickers\u001b[38;5;241m.\u001b[39mjson()[\u001b[38;5;124m'\u001b[39m\u001b[38;5;124m0\u001b[39m\u001b[38;5;124m'\u001b[39m]\n",
      "\u001b[0;31mNameError\u001b[0m: name 'companyTickers' is not defined"
     ]
    }
   ],
   "source": [
    "from datetime import datetime\n",
    "# review response / keys\n",
    "print(companyTickers.json().keys())\n",
    "\n",
    "# format response to dictionary and get first key/value\n",
    "firstEntry = companyTickers.json()['0']\n",
    "\n",
    "# parse CIK // without leading zeros\n",
    "directCik = companyTickers.json()['0']['cik_str']\n",
    "\n",
    "# dictionary to dataframe\n",
    "companyData = pd.DataFrame.from_dict(companyTickers.json(),\n",
    "                                     orient='index')\n",
    "\n",
    "# add leading zeros to CIK\n",
    "companyData['cik_str'] = companyData['cik_str'].astype(\n",
    "                           str).str.zfill(10)\n",
    "companyData['time_load'] = datetime.today()\n",
    "# review data\n",
    "print(companyData[:1])\n",
    "\n",
    "cik = companyData[0:1].cik_str[0]\n",
    "\n",
    "\n",
    "\n",
    "\n",
    "directCik"
   ]
  },
  {
   "cell_type": "code",
   "execution_count": 4,
   "metadata": {},
   "outputs": [
    {
     "data": {
      "text/plain": [
       "┌─────────────┬─────────────┬─────────┬─────────┬─────────┬─────────┐\n",
       "│ column_name │ column_type │  null   │   key   │ default │  extra  │\n",
       "│   varchar   │   varchar   │ varchar │ varchar │ varchar │ varchar │\n",
       "├─────────────┼─────────────┼─────────┼─────────┼─────────┼─────────┤\n",
       "│ cik_str     │ VARCHAR     │ YES     │ NULL    │ NULL    │ NULL    │\n",
       "│ ticker      │ VARCHAR     │ YES     │ NULL    │ NULL    │ NULL    │\n",
       "│ title       │ VARCHAR     │ YES     │ NULL    │ NULL    │ NULL    │\n",
       "│ time_load   │ TIMESTAMP   │ YES     │ NULL    │ NULL    │ NULL    │\n",
       "└─────────────┴─────────────┴─────────┴─────────┴─────────┴─────────┘"
      ]
     },
     "execution_count": 4,
     "metadata": {},
     "output_type": "execute_result"
    }
   ],
   "source": [
    "duckdb.sql('DESCRIBE SELECT * FROM companyData')# .fetchall()\n",
    "# ('''\n",
    "\n",
    "#     SELECT * FROM companyData\n",
    "# ''')"
   ]
  },
  {
   "cell_type": "code",
   "execution_count": null,
   "metadata": {},
   "outputs": [],
   "source": []
  },
  {
   "cell_type": "code",
   "execution_count": 13,
   "metadata": {},
   "outputs": [
    {
     "data": {
      "text/plain": [
       "71"
      ]
     },
     "execution_count": 13,
     "metadata": {},
     "output_type": "execute_result"
    }
   ],
   "source": [
    "companyData.time_load   .str.len().max()"
   ]
  },
  {
   "cell_type": "code",
   "execution_count": 12,
   "metadata": {},
   "outputs": [
    {
     "data": {
      "text/plain": [
       "0        0000789019\n",
       "1        0000320193\n",
       "2        0001045810\n",
       "3        0001652044\n",
       "4        0001018724\n",
       "            ...    \n",
       "10374    0001722438\n",
       "10375    0001779372\n",
       "10376    0000110095\n",
       "10377    0001865782\n",
       "10378    0001921158\n",
       "Name: cik_str, Length: 10379, dtype: object"
      ]
     },
     "execution_count": 12,
     "metadata": {},
     "output_type": "execute_result"
    }
   ],
   "source": [
    "companyData.cik_str"
   ]
  },
  {
   "cell_type": "code",
   "execution_count": 13,
   "metadata": {},
   "outputs": [
    {
     "data": {
      "text/plain": [
       "10379"
      ]
     },
     "execution_count": 13,
     "metadata": {},
     "output_type": "execute_result"
    }
   ],
   "source": [
    "import sqlite3\n",
    "connection = sqlite3.connect('2_ai.db'\n",
    "                             )\n",
    "companyData.to_sql(name='cik_tickers',con= connection,if_exists='append')"
   ]
  },
  {
   "cell_type": "code",
   "execution_count": 14,
   "metadata": {},
   "outputs": [
    {
     "data": {
      "text/plain": [
       "'0000320193'"
      ]
     },
     "execution_count": 14,
     "metadata": {},
     "output_type": "execute_result"
    }
   ],
   "source": [
    "# cik\n",
    "direct_ticker = 'AAPL'\n",
    "cik = str(companyData.query(\"ticker ==@direct_ticker \")['cik_str'].values[0])\n",
    "cik"
   ]
  },
  {
   "cell_type": "code",
   "execution_count": 15,
   "metadata": {},
   "outputs": [
    {
     "data": {
      "text/plain": [
       "Index(['accessionNumber', 'filingDate', 'reportDate', 'acceptanceDateTime',\n",
       "       'act', 'form', 'fileNumber', 'filmNumber', 'items', 'size', 'isXBRL',\n",
       "       'isInlineXBRL', 'primaryDocument', 'primaryDocDescription'],\n",
       "      dtype='object')"
      ]
     },
     "execution_count": 15,
     "metadata": {},
     "output_type": "execute_result"
    }
   ],
   "source": [
    "# get company specific filing metadata\n",
    "filingMetadata = requests.get(\n",
    "    f'https://data.sec.gov/submissions/CIK{cik}.json',\n",
    "    headers=headers\n",
    "    )\n",
    "\n",
    "# review json \n",
    "# print(filingMetadata.json().keys())\n",
    "filingMetadata.json()['filings']\n",
    "filingMetadata.json()['filings'].keys()\n",
    "filingMetadata.json()['filings']['recent']\n",
    "filingMetadata.json()['filings']['recent'].keys()\n",
    "\n",
    "# dictionary to dataframe\n",
    "allForms = pd.DataFrame.from_dict(\n",
    "             filingMetadata.json()['filings']['recent']\n",
    "             )\n",
    "\n",
    "# review columns\n",
    "allForms.columns\n",
    "# allForms[['accessionNumber', 'reportDate', 'form']].head(50)\n",
    "\n",
    "# allForms.query(\"form in ['10-Q','10-K']\")"
   ]
  },
  {
   "cell_type": "code",
   "execution_count": 8,
   "metadata": {},
   "outputs": [
    {
     "data": {
      "text/plain": [
       "dict_keys(['cik', 'entityType', 'sic', 'sicDescription', 'insiderTransactionForOwnerExists', 'insiderTransactionForIssuerExists', 'name', 'tickers', 'exchanges', 'ein', 'description', 'website', 'investorWebsite', 'category', 'fiscalYearEnd', 'stateOfIncorporation', 'stateOfIncorporationDescription', 'addresses', 'phone', 'flags', 'formerNames', 'filings'])"
      ]
     },
     "execution_count": 8,
     "metadata": {},
     "output_type": "execute_result"
    }
   ],
   "source": [
    "filingMetadata.json().keys()"
   ]
  },
  {
   "cell_type": "code",
   "execution_count": 9,
   "metadata": {},
   "outputs": [
    {
     "data": {
      "text/plain": [
       "'2013-07-23'"
      ]
     },
     "execution_count": 9,
     "metadata": {},
     "output_type": "execute_result"
    }
   ],
   "source": [
    "allForms['filingDate'].min()"
   ]
  },
  {
   "cell_type": "code",
   "execution_count": 16,
   "metadata": {},
   "outputs": [
    {
     "data": {
      "text/plain": [
       "<Response [200]>"
      ]
     },
     "execution_count": 16,
     "metadata": {},
     "output_type": "execute_result"
    }
   ],
   "source": [
    "# get company facts data\n",
    "companyFacts = requests.get(\n",
    "    f'https://data.sec.gov/api/xbrl/companyfacts/CIK{cik}.json',\n",
    "    headers=headers\n",
    "    )\n",
    "\n",
    "#review data\n",
    "companyFacts.json().keys()\n",
    "companyFacts.json()['facts']\n",
    "companyFacts.json()['facts'].keys()\n",
    "\n",
    "# filing metadata\n",
    "companyFacts.json()['facts']['dei'][\n",
    "    'EntityCommonStockSharesOutstanding']\n",
    "companyFacts.json()['facts']['dei'][\n",
    "    'EntityCommonStockSharesOutstanding'].keys()\n",
    "companyFacts.json()['facts']['dei'][\n",
    "    'EntityCommonStockSharesOutstanding']['units']\n",
    "companyFacts.json()['facts']['dei'][\n",
    "    'EntityCommonStockSharesOutstanding']['units']['shares']\n",
    "companyFacts.json()['facts']['dei'][\n",
    "    'EntityCommonStockSharesOutstanding']['units']['shares'][0]\n",
    "\n",
    "# concept data // financial statement line items\n",
    "companyFacts.json()['facts']['us-gaap']\n",
    "companyFacts.json()['facts']['us-gaap'].keys()\n",
    "\n",
    "# different amounts of data available per concept\n",
    "companyFacts.json()['facts']['us-gaap']['AccountsPayable']\n",
    "companyFacts.json()['facts']['us-gaap']['Revenues']\n",
    "companyFacts.json()['facts']['us-gaap']['Assets']\n",
    "companyFacts"
   ]
  },
  {
   "cell_type": "code",
   "execution_count": 17,
   "metadata": {},
   "outputs": [
    {
     "data": {
      "text/html": [
       "<div>\n",
       "<style scoped>\n",
       "    .dataframe tbody tr th:only-of-type {\n",
       "        vertical-align: middle;\n",
       "    }\n",
       "\n",
       "    .dataframe tbody tr th {\n",
       "        vertical-align: top;\n",
       "    }\n",
       "\n",
       "    .dataframe thead th {\n",
       "        text-align: right;\n",
       "    }\n",
       "</style>\n",
       "<table border=\"1\" class=\"dataframe\">\n",
       "  <thead>\n",
       "    <tr style=\"text-align: right;\">\n",
       "      <th></th>\n",
       "      <th>start</th>\n",
       "      <th>end</th>\n",
       "      <th>val</th>\n",
       "      <th>accn</th>\n",
       "      <th>fy</th>\n",
       "      <th>fp</th>\n",
       "      <th>form</th>\n",
       "      <th>filed</th>\n",
       "      <th>frame</th>\n",
       "    </tr>\n",
       "  </thead>\n",
       "  <tbody>\n",
       "    <tr>\n",
       "      <th>0</th>\n",
       "      <td>2015-09-27</td>\n",
       "      <td>2016-09-24</td>\n",
       "      <td>215639000000</td>\n",
       "      <td>0000320193-18-000145</td>\n",
       "      <td>2018</td>\n",
       "      <td>FY</td>\n",
       "      <td>10-K</td>\n",
       "      <td>2018-11-05</td>\n",
       "      <td>CY2016</td>\n",
       "    </tr>\n",
       "    <tr>\n",
       "      <th>1</th>\n",
       "      <td>2016-09-25</td>\n",
       "      <td>2016-12-31</td>\n",
       "      <td>78351000000</td>\n",
       "      <td>0000320193-18-000145</td>\n",
       "      <td>2018</td>\n",
       "      <td>FY</td>\n",
       "      <td>10-K</td>\n",
       "      <td>2018-11-05</td>\n",
       "      <td>CY2016Q4</td>\n",
       "    </tr>\n",
       "    <tr>\n",
       "      <th>2</th>\n",
       "      <td>2017-01-01</td>\n",
       "      <td>2017-04-01</td>\n",
       "      <td>52896000000</td>\n",
       "      <td>0000320193-18-000145</td>\n",
       "      <td>2018</td>\n",
       "      <td>FY</td>\n",
       "      <td>10-K</td>\n",
       "      <td>2018-11-05</td>\n",
       "      <td>CY2017Q1</td>\n",
       "    </tr>\n",
       "    <tr>\n",
       "      <th>3</th>\n",
       "      <td>2017-04-02</td>\n",
       "      <td>2017-07-01</td>\n",
       "      <td>45408000000</td>\n",
       "      <td>0000320193-18-000145</td>\n",
       "      <td>2018</td>\n",
       "      <td>FY</td>\n",
       "      <td>10-K</td>\n",
       "      <td>2018-11-05</td>\n",
       "      <td>CY2017Q2</td>\n",
       "    </tr>\n",
       "    <tr>\n",
       "      <th>4</th>\n",
       "      <td>2016-09-25</td>\n",
       "      <td>2017-09-30</td>\n",
       "      <td>229234000000</td>\n",
       "      <td>0000320193-18-000145</td>\n",
       "      <td>2018</td>\n",
       "      <td>FY</td>\n",
       "      <td>10-K</td>\n",
       "      <td>2018-11-05</td>\n",
       "      <td>CY2017</td>\n",
       "    </tr>\n",
       "    <tr>\n",
       "      <th>5</th>\n",
       "      <td>2017-07-02</td>\n",
       "      <td>2017-09-30</td>\n",
       "      <td>52579000000</td>\n",
       "      <td>0000320193-18-000145</td>\n",
       "      <td>2018</td>\n",
       "      <td>FY</td>\n",
       "      <td>10-K</td>\n",
       "      <td>2018-11-05</td>\n",
       "      <td>CY2017Q3</td>\n",
       "    </tr>\n",
       "    <tr>\n",
       "      <th>6</th>\n",
       "      <td>2017-10-01</td>\n",
       "      <td>2017-12-30</td>\n",
       "      <td>88293000000</td>\n",
       "      <td>0000320193-18-000145</td>\n",
       "      <td>2018</td>\n",
       "      <td>FY</td>\n",
       "      <td>10-K</td>\n",
       "      <td>2018-11-05</td>\n",
       "      <td>CY2017Q4</td>\n",
       "    </tr>\n",
       "    <tr>\n",
       "      <th>7</th>\n",
       "      <td>2017-12-31</td>\n",
       "      <td>2018-03-31</td>\n",
       "      <td>61137000000</td>\n",
       "      <td>0000320193-18-000145</td>\n",
       "      <td>2018</td>\n",
       "      <td>FY</td>\n",
       "      <td>10-K</td>\n",
       "      <td>2018-11-05</td>\n",
       "      <td>CY2018Q1</td>\n",
       "    </tr>\n",
       "    <tr>\n",
       "      <th>8</th>\n",
       "      <td>2018-04-01</td>\n",
       "      <td>2018-06-30</td>\n",
       "      <td>53265000000</td>\n",
       "      <td>0000320193-18-000145</td>\n",
       "      <td>2018</td>\n",
       "      <td>FY</td>\n",
       "      <td>10-K</td>\n",
       "      <td>2018-11-05</td>\n",
       "      <td>CY2018Q2</td>\n",
       "    </tr>\n",
       "    <tr>\n",
       "      <th>9</th>\n",
       "      <td>2017-10-01</td>\n",
       "      <td>2018-09-29</td>\n",
       "      <td>265595000000</td>\n",
       "      <td>0000320193-18-000145</td>\n",
       "      <td>2018</td>\n",
       "      <td>FY</td>\n",
       "      <td>10-K</td>\n",
       "      <td>2018-11-05</td>\n",
       "      <td>CY2018</td>\n",
       "    </tr>\n",
       "    <tr>\n",
       "      <th>10</th>\n",
       "      <td>2018-07-01</td>\n",
       "      <td>2018-09-29</td>\n",
       "      <td>62900000000</td>\n",
       "      <td>0000320193-18-000145</td>\n",
       "      <td>2018</td>\n",
       "      <td>FY</td>\n",
       "      <td>10-K</td>\n",
       "      <td>2018-11-05</td>\n",
       "      <td>CY2018Q3</td>\n",
       "    </tr>\n",
       "  </tbody>\n",
       "</table>\n",
       "</div>"
      ],
      "text/plain": [
       "         start         end           val                  accn    fy  fp  \\\n",
       "0   2015-09-27  2016-09-24  215639000000  0000320193-18-000145  2018  FY   \n",
       "1   2016-09-25  2016-12-31   78351000000  0000320193-18-000145  2018  FY   \n",
       "2   2017-01-01  2017-04-01   52896000000  0000320193-18-000145  2018  FY   \n",
       "3   2017-04-02  2017-07-01   45408000000  0000320193-18-000145  2018  FY   \n",
       "4   2016-09-25  2017-09-30  229234000000  0000320193-18-000145  2018  FY   \n",
       "5   2017-07-02  2017-09-30   52579000000  0000320193-18-000145  2018  FY   \n",
       "6   2017-10-01  2017-12-30   88293000000  0000320193-18-000145  2018  FY   \n",
       "7   2017-12-31  2018-03-31   61137000000  0000320193-18-000145  2018  FY   \n",
       "8   2018-04-01  2018-06-30   53265000000  0000320193-18-000145  2018  FY   \n",
       "9   2017-10-01  2018-09-29  265595000000  0000320193-18-000145  2018  FY   \n",
       "10  2018-07-01  2018-09-29   62900000000  0000320193-18-000145  2018  FY   \n",
       "\n",
       "    form       filed     frame  \n",
       "0   10-K  2018-11-05    CY2016  \n",
       "1   10-K  2018-11-05  CY2016Q4  \n",
       "2   10-K  2018-11-05  CY2017Q1  \n",
       "3   10-K  2018-11-05  CY2017Q2  \n",
       "4   10-K  2018-11-05    CY2017  \n",
       "5   10-K  2018-11-05  CY2017Q3  \n",
       "6   10-K  2018-11-05  CY2017Q4  \n",
       "7   10-K  2018-11-05  CY2018Q1  \n",
       "8   10-K  2018-11-05  CY2018Q2  \n",
       "9   10-K  2018-11-05    CY2018  \n",
       "10  10-K  2018-11-05  CY2018Q3  "
      ]
     },
     "execution_count": 17,
     "metadata": {},
     "output_type": "execute_result"
    }
   ],
   "source": [
    "companyFacts.json()['facts']['us-gaap'].keys()\n",
    "companyFacts.json()['facts']['us-gaap']['Revenues'] # this for metabase\n",
    "'label','description'\n",
    "data = companyFacts.json()['facts']['us-gaap']['Revenues']['units']['USD']\n",
    "pd.DataFrame(data)\n",
    "# companyFacts.json()['facts']['us-gaap']['Revenues']['units'].keys()"
   ]
  },
  {
   "cell_type": "code",
   "execution_count": 18,
   "metadata": {},
   "outputs": [
    {
     "name": "stdout",
     "output_type": "stream",
     "text": [
      "AccountsPayable\n"
     ]
    },
    {
     "data": {
      "text/html": [
       "<div>\n",
       "<style scoped>\n",
       "    .dataframe tbody tr th:only-of-type {\n",
       "        vertical-align: middle;\n",
       "    }\n",
       "\n",
       "    .dataframe tbody tr th {\n",
       "        vertical-align: top;\n",
       "    }\n",
       "\n",
       "    .dataframe thead th {\n",
       "        text-align: right;\n",
       "    }\n",
       "</style>\n",
       "<table border=\"1\" class=\"dataframe\">\n",
       "  <thead>\n",
       "    <tr style=\"text-align: right;\">\n",
       "      <th></th>\n",
       "      <th>0</th>\n",
       "      <th>1</th>\n",
       "      <th>2</th>\n",
       "      <th>3</th>\n",
       "    </tr>\n",
       "  </thead>\n",
       "  <tbody>\n",
       "    <tr>\n",
       "      <th>0</th>\n",
       "      <td>AccountsPayable</td>\n",
       "      <td>Accounts Payable (Deprecated 2009-01-31)</td>\n",
       "      <td>Carrying value as of the balance sheet date of...</td>\n",
       "      <td>USD</td>\n",
       "    </tr>\n",
       "    <tr>\n",
       "      <th>1</th>\n",
       "      <td>AccountsPayableCurrent</td>\n",
       "      <td>Accounts Payable, Current</td>\n",
       "      <td>Carrying value as of the balance sheet date of...</td>\n",
       "      <td>USD</td>\n",
       "    </tr>\n",
       "    <tr>\n",
       "      <th>2</th>\n",
       "      <td>AccountsReceivableNetCurrent</td>\n",
       "      <td>Accounts Receivable, after Allowance for Credi...</td>\n",
       "      <td>Amount, after allowance for credit loss, of ri...</td>\n",
       "      <td>USD</td>\n",
       "    </tr>\n",
       "    <tr>\n",
       "      <th>3</th>\n",
       "      <td>AccruedIncomeTaxesCurrent</td>\n",
       "      <td>Accrued Income Taxes, Current</td>\n",
       "      <td>Carrying amount as of the balance sheet date o...</td>\n",
       "      <td>USD</td>\n",
       "    </tr>\n",
       "    <tr>\n",
       "      <th>4</th>\n",
       "      <td>AccruedIncomeTaxesNoncurrent</td>\n",
       "      <td>Accrued Income Taxes, Noncurrent</td>\n",
       "      <td>Carrying amount as of the balance sheet date o...</td>\n",
       "      <td>USD</td>\n",
       "    </tr>\n",
       "    <tr>\n",
       "      <th>...</th>\n",
       "      <td>...</td>\n",
       "      <td>...</td>\n",
       "      <td>...</td>\n",
       "      <td>...</td>\n",
       "    </tr>\n",
       "    <tr>\n",
       "      <th>496</th>\n",
       "      <td>HedgedLiabilityFairValueHedge</td>\n",
       "      <td>Hedged Liability, Fair Value Hedge</td>\n",
       "      <td>Amount of liability hedged in fair value hedgi...</td>\n",
       "      <td>USD</td>\n",
       "    </tr>\n",
       "    <tr>\n",
       "      <th>497</th>\n",
       "      <td>DeferredIncomeTaxAssetsNet</td>\n",
       "      <td>Deferred Income Tax Assets, Net</td>\n",
       "      <td>Amount, after allocation of valuation allowanc...</td>\n",
       "      <td>USD</td>\n",
       "    </tr>\n",
       "    <tr>\n",
       "      <th>498</th>\n",
       "      <td>DeferredTaxLiabilitiesPropertyPlantAndEquipment</td>\n",
       "      <td>Deferred Tax Liabilities, Property, Plant and ...</td>\n",
       "      <td>Amount of deferred tax liability attributable ...</td>\n",
       "      <td>USD</td>\n",
       "    </tr>\n",
       "    <tr>\n",
       "      <th>499</th>\n",
       "      <td>IncrementalCommonSharesAttributableToShareBase...</td>\n",
       "      <td>Incremental Common Shares Attributable to Dilu...</td>\n",
       "      <td>Additional shares included in the calculation ...</td>\n",
       "      <td>shares</td>\n",
       "    </tr>\n",
       "    <tr>\n",
       "      <th>500</th>\n",
       "      <td>OtherAssetsMiscellaneousNoncurrent</td>\n",
       "      <td>Other Assets, Miscellaneous, Noncurrent</td>\n",
       "      <td>Amount of other miscellaneous assets expected ...</td>\n",
       "      <td>USD</td>\n",
       "    </tr>\n",
       "  </tbody>\n",
       "</table>\n",
       "<p>501 rows × 4 columns</p>\n",
       "</div>"
      ],
      "text/plain": [
       "                                                     0  \\\n",
       "0                                      AccountsPayable   \n",
       "1                               AccountsPayableCurrent   \n",
       "2                         AccountsReceivableNetCurrent   \n",
       "3                            AccruedIncomeTaxesCurrent   \n",
       "4                         AccruedIncomeTaxesNoncurrent   \n",
       "..                                                 ...   \n",
       "496                      HedgedLiabilityFairValueHedge   \n",
       "497                         DeferredIncomeTaxAssetsNet   \n",
       "498    DeferredTaxLiabilitiesPropertyPlantAndEquipment   \n",
       "499  IncrementalCommonSharesAttributableToShareBase...   \n",
       "500                 OtherAssetsMiscellaneousNoncurrent   \n",
       "\n",
       "                                                     1  \\\n",
       "0             Accounts Payable (Deprecated 2009-01-31)   \n",
       "1                            Accounts Payable, Current   \n",
       "2    Accounts Receivable, after Allowance for Credi...   \n",
       "3                        Accrued Income Taxes, Current   \n",
       "4                     Accrued Income Taxes, Noncurrent   \n",
       "..                                                 ...   \n",
       "496                 Hedged Liability, Fair Value Hedge   \n",
       "497                    Deferred Income Tax Assets, Net   \n",
       "498  Deferred Tax Liabilities, Property, Plant and ...   \n",
       "499  Incremental Common Shares Attributable to Dilu...   \n",
       "500            Other Assets, Miscellaneous, Noncurrent   \n",
       "\n",
       "                                                     2       3  \n",
       "0    Carrying value as of the balance sheet date of...     USD  \n",
       "1    Carrying value as of the balance sheet date of...     USD  \n",
       "2    Amount, after allowance for credit loss, of ri...     USD  \n",
       "3    Carrying amount as of the balance sheet date o...     USD  \n",
       "4    Carrying amount as of the balance sheet date o...     USD  \n",
       "..                                                 ...     ...  \n",
       "496  Amount of liability hedged in fair value hedgi...     USD  \n",
       "497  Amount, after allocation of valuation allowanc...     USD  \n",
       "498  Amount of deferred tax liability attributable ...     USD  \n",
       "499  Additional shares included in the calculation ...  shares  \n",
       "500  Amount of other miscellaneous assets expected ...     USD  \n",
       "\n",
       "[501 rows x 4 columns]"
      ]
     },
     "execution_count": 18,
     "metadata": {},
     "output_type": "execute_result"
    }
   ],
   "source": [
    "import re\n",
    "tables_values = []\n",
    "for index,elemnt in companyFacts.json()['facts']['us-gaap'].items():\n",
    "    for measure, val, in elemnt['units'].items():\n",
    "        tables_values.append([\n",
    "        index,\n",
    "        elemnt['label'],\n",
    "        elemnt['description'],\n",
    "        measure])\n",
    "   \n",
    "\n",
    "\n",
    "\n",
    "\n",
    "mmatch = re.search(r'\\(.*?\\)', tables_values[0][0])\n",
    "if match:\n",
    "    print(match.group(0).strip('()'))\n",
    "else:\n",
    "    print(tables_values[0][0])\n",
    "\n",
    "\n",
    "\n",
    "# tables_values\n",
    "# companyFacts.json()\n",
    "companyFacts.json()\n",
    "pd.DataFrame(tables_values)"
   ]
  },
  {
   "cell_type": "code",
   "execution_count": 19,
   "metadata": {},
   "outputs": [
    {
     "ename": "ImportError",
     "evalue": "matplotlib is required for plotting when the default backend \"matplotlib\" is selected.",
     "output_type": "error",
     "traceback": [
      "\u001b[0;31m---------------------------------------------------------------------------\u001b[0m",
      "\u001b[0;31mImportError\u001b[0m                               Traceback (most recent call last)",
      "Cell \u001b[0;32mIn[19], line 33\u001b[0m\n\u001b[1;32m     30\u001b[0m assets10Q \u001b[38;5;241m=\u001b[39m assets10Q\u001b[38;5;241m.\u001b[39mreset_index(drop\u001b[38;5;241m=\u001b[39m\u001b[38;5;28;01mTrue\u001b[39;00m)\n\u001b[1;32m     32\u001b[0m \u001b[38;5;66;03m# plot \u001b[39;00m\n\u001b[0;32m---> 33\u001b[0m \u001b[43massets10Q\u001b[49m\u001b[38;5;241;43m.\u001b[39;49m\u001b[43mplot\u001b[49m\u001b[43m(\u001b[49m\u001b[43mx\u001b[49m\u001b[38;5;241;43m=\u001b[39;49m\u001b[38;5;124;43m'\u001b[39;49m\u001b[38;5;124;43mend\u001b[39;49m\u001b[38;5;124;43m'\u001b[39;49m\u001b[43m,\u001b[49m\u001b[43m \u001b[49m\u001b[43my\u001b[49m\u001b[38;5;241;43m=\u001b[39;49m\u001b[38;5;124;43m'\u001b[39;49m\u001b[38;5;124;43mval\u001b[39;49m\u001b[38;5;124;43m'\u001b[39;49m\u001b[43m)\u001b[49m\n",
      "File \u001b[0;32m~/.cache/pypoetry/virtualenvs/dwh-test-5vw4vDqs-py3.10/lib/python3.10/site-packages/pandas/plotting/_core.py:947\u001b[0m, in \u001b[0;36mPlotAccessor.__call__\u001b[0;34m(self, *args, **kwargs)\u001b[0m\n\u001b[1;32m    946\u001b[0m \u001b[38;5;28;01mdef\u001b[39;00m \u001b[38;5;21m__call__\u001b[39m(\u001b[38;5;28mself\u001b[39m, \u001b[38;5;241m*\u001b[39margs, \u001b[38;5;241m*\u001b[39m\u001b[38;5;241m*\u001b[39mkwargs):\n\u001b[0;32m--> 947\u001b[0m     plot_backend \u001b[38;5;241m=\u001b[39m \u001b[43m_get_plot_backend\u001b[49m\u001b[43m(\u001b[49m\u001b[43mkwargs\u001b[49m\u001b[38;5;241;43m.\u001b[39;49m\u001b[43mpop\u001b[49m\u001b[43m(\u001b[49m\u001b[38;5;124;43m\"\u001b[39;49m\u001b[38;5;124;43mbackend\u001b[39;49m\u001b[38;5;124;43m\"\u001b[39;49m\u001b[43m,\u001b[49m\u001b[43m \u001b[49m\u001b[38;5;28;43;01mNone\u001b[39;49;00m\u001b[43m)\u001b[49m\u001b[43m)\u001b[49m\n\u001b[1;32m    949\u001b[0m     x, y, kind, kwargs \u001b[38;5;241m=\u001b[39m \u001b[38;5;28mself\u001b[39m\u001b[38;5;241m.\u001b[39m_get_call_args(\n\u001b[1;32m    950\u001b[0m         plot_backend\u001b[38;5;241m.\u001b[39m\u001b[38;5;18m__name__\u001b[39m, \u001b[38;5;28mself\u001b[39m\u001b[38;5;241m.\u001b[39m_parent, args, kwargs\n\u001b[1;32m    951\u001b[0m     )\n\u001b[1;32m    953\u001b[0m     kind \u001b[38;5;241m=\u001b[39m \u001b[38;5;28mself\u001b[39m\u001b[38;5;241m.\u001b[39m_kind_aliases\u001b[38;5;241m.\u001b[39mget(kind, kind)\n",
      "File \u001b[0;32m~/.cache/pypoetry/virtualenvs/dwh-test-5vw4vDqs-py3.10/lib/python3.10/site-packages/pandas/plotting/_core.py:1944\u001b[0m, in \u001b[0;36m_get_plot_backend\u001b[0;34m(backend)\u001b[0m\n\u001b[1;32m   1941\u001b[0m \u001b[38;5;28;01mif\u001b[39;00m backend_str \u001b[38;5;129;01min\u001b[39;00m _backends:\n\u001b[1;32m   1942\u001b[0m     \u001b[38;5;28;01mreturn\u001b[39;00m _backends[backend_str]\n\u001b[0;32m-> 1944\u001b[0m module \u001b[38;5;241m=\u001b[39m \u001b[43m_load_backend\u001b[49m\u001b[43m(\u001b[49m\u001b[43mbackend_str\u001b[49m\u001b[43m)\u001b[49m\n\u001b[1;32m   1945\u001b[0m _backends[backend_str] \u001b[38;5;241m=\u001b[39m module\n\u001b[1;32m   1946\u001b[0m \u001b[38;5;28;01mreturn\u001b[39;00m module\n",
      "File \u001b[0;32m~/.cache/pypoetry/virtualenvs/dwh-test-5vw4vDqs-py3.10/lib/python3.10/site-packages/pandas/plotting/_core.py:1874\u001b[0m, in \u001b[0;36m_load_backend\u001b[0;34m(backend)\u001b[0m\n\u001b[1;32m   1872\u001b[0m         module \u001b[38;5;241m=\u001b[39m importlib\u001b[38;5;241m.\u001b[39mimport_module(\u001b[38;5;124m\"\u001b[39m\u001b[38;5;124mpandas.plotting._matplotlib\u001b[39m\u001b[38;5;124m\"\u001b[39m)\n\u001b[1;32m   1873\u001b[0m     \u001b[38;5;28;01mexcept\u001b[39;00m \u001b[38;5;167;01mImportError\u001b[39;00m:\n\u001b[0;32m-> 1874\u001b[0m         \u001b[38;5;28;01mraise\u001b[39;00m \u001b[38;5;167;01mImportError\u001b[39;00m(\n\u001b[1;32m   1875\u001b[0m             \u001b[38;5;124m\"\u001b[39m\u001b[38;5;124mmatplotlib is required for plotting when the \u001b[39m\u001b[38;5;124m\"\u001b[39m\n\u001b[1;32m   1876\u001b[0m             \u001b[38;5;124m'\u001b[39m\u001b[38;5;124mdefault backend \u001b[39m\u001b[38;5;124m\"\u001b[39m\u001b[38;5;124mmatplotlib\u001b[39m\u001b[38;5;124m\"\u001b[39m\u001b[38;5;124m is selected.\u001b[39m\u001b[38;5;124m'\u001b[39m\n\u001b[1;32m   1877\u001b[0m         ) \u001b[38;5;28;01mfrom\u001b[39;00m \u001b[38;5;28;01mNone\u001b[39;00m\n\u001b[1;32m   1878\u001b[0m     \u001b[38;5;28;01mreturn\u001b[39;00m module\n\u001b[1;32m   1880\u001b[0m found_backend \u001b[38;5;241m=\u001b[39m \u001b[38;5;28;01mFalse\u001b[39;00m\n",
      "\u001b[0;31mImportError\u001b[0m: matplotlib is required for plotting when the default backend \"matplotlib\" is selected."
     ]
    }
   ],
   "source": [
    "# get company concept data\n",
    "companyConcept = requests.get(\n",
    "    (\n",
    "    f'https://data.sec.gov/api/xbrl/companyconcept/CIK{cik}'\n",
    "     f'/us-gaap/AccruedLiabilities.json'\n",
    "    ),\n",
    "    headers=headers\n",
    "    )\n",
    "\n",
    "# review data\n",
    "companyConcept.json().keys()\n",
    "companyConcept.json()['units']\n",
    "companyConcept.json()['units'].keys()\n",
    "companyConcept.json()['units']['USD']\n",
    "companyConcept.json()['units']['USD'][0]\n",
    "\n",
    "# parse assets from single filing\n",
    "companyConcept.json()['units']['USD'][0]['val']\n",
    "\n",
    "# get all filings data \n",
    "assetsData = pd.DataFrame.from_dict((\n",
    "               companyConcept.json()['units']['USD']))\n",
    "\n",
    "# review data\n",
    "assetsData.columns\n",
    "assetsData.form\n",
    "\n",
    "# get assets from 10Q forms and reset index\n",
    "assets10Q = assetsData\n",
    "assets10Q = assets10Q.reset_index(drop=True)\n",
    "\n",
    "# plot \n",
    "assets10Q.plot(x='end', y='val')"
   ]
  },
  {
   "cell_type": "code",
   "execution_count": 106,
   "metadata": {},
   "outputs": [
    {
     "data": {
      "text/html": [
       "<div>\n",
       "<style scoped>\n",
       "    .dataframe tbody tr th:only-of-type {\n",
       "        vertical-align: middle;\n",
       "    }\n",
       "\n",
       "    .dataframe tbody tr th {\n",
       "        vertical-align: top;\n",
       "    }\n",
       "\n",
       "    .dataframe thead th {\n",
       "        text-align: right;\n",
       "    }\n",
       "</style>\n",
       "<table border=\"1\" class=\"dataframe\">\n",
       "  <thead>\n",
       "    <tr style=\"text-align: right;\">\n",
       "      <th></th>\n",
       "      <th>end</th>\n",
       "      <th>val</th>\n",
       "      <th>accn</th>\n",
       "      <th>fy</th>\n",
       "      <th>fp</th>\n",
       "      <th>form</th>\n",
       "      <th>filed</th>\n",
       "      <th>frame</th>\n",
       "    </tr>\n",
       "  </thead>\n",
       "  <tbody>\n",
       "    <tr>\n",
       "      <th>0</th>\n",
       "      <td>2008-09-27</td>\n",
       "      <td>3719000000</td>\n",
       "      <td>0001193125-09-153165</td>\n",
       "      <td>2009</td>\n",
       "      <td>Q3</td>\n",
       "      <td>10-Q</td>\n",
       "      <td>2009-07-22</td>\n",
       "      <td>CY2008Q3I</td>\n",
       "    </tr>\n",
       "    <tr>\n",
       "      <th>1</th>\n",
       "      <td>2009-06-27</td>\n",
       "      <td>3338000000</td>\n",
       "      <td>0001193125-09-153165</td>\n",
       "      <td>2009</td>\n",
       "      <td>Q3</td>\n",
       "      <td>10-Q</td>\n",
       "      <td>2009-07-22</td>\n",
       "      <td>CY2009Q2I</td>\n",
       "    </tr>\n",
       "  </tbody>\n",
       "</table>\n",
       "</div>"
      ],
      "text/plain": [
       "          end         val                  accn    fy  fp  form       filed  \\\n",
       "0  2008-09-27  3719000000  0001193125-09-153165  2009  Q3  10-Q  2009-07-22   \n",
       "1  2009-06-27  3338000000  0001193125-09-153165  2009  Q3  10-Q  2009-07-22   \n",
       "\n",
       "       frame  \n",
       "0  CY2008Q3I  \n",
       "1  CY2009Q2I  "
      ]
     },
     "execution_count": 106,
     "metadata": {},
     "output_type": "execute_result"
    }
   ],
   "source": [
    "assetsData"
   ]
  },
  {
   "cell_type": "code",
   "execution_count": 109,
   "metadata": {},
   "outputs": [
    {
     "data": {
      "text/plain": [
       "{'cik': 320193,\n",
       " 'taxonomy': 'us-gaap',\n",
       " 'tag': 'AccruedLiabilities',\n",
       " 'label': 'Accrued Liabilities (Deprecated 2009-01-31)',\n",
       " 'description': 'Carrying value as of the balance sheet date of obligations incurred and payable, pertaining to costs that are statutory in nature, are incurred on contractual obligations, or accumulate over time and for which invoices have not yet been received or will not be rendered. Examples include taxes, interest, rent and utilities. For classified balance sheets, used to reflect the current portion of the liabilities (due within one year or within the normal operating cycle if longer); for unclassified balance sheets, used to reflect the total liabilities (regardless of due date).',\n",
       " 'entityName': 'Apple Inc.',\n",
       " 'units': {'USD': [{'end': '2008-09-27',\n",
       "    'val': 3719000000,\n",
       "    'accn': '0001193125-09-153165',\n",
       "    'fy': 2009,\n",
       "    'fp': 'Q3',\n",
       "    'form': '10-Q',\n",
       "    'filed': '2009-07-22',\n",
       "    'frame': 'CY2008Q3I'},\n",
       "   {'end': '2009-06-27',\n",
       "    'val': 3338000000,\n",
       "    'accn': '0001193125-09-153165',\n",
       "    'fy': 2009,\n",
       "    'fp': 'Q3',\n",
       "    'form': '10-Q',\n",
       "    'filed': '2009-07-22',\n",
       "    'frame': 'CY2009Q2I'}]}}"
      ]
     },
     "execution_count": 109,
     "metadata": {},
     "output_type": "execute_result"
    }
   ],
   "source": [
    "companyConcept.json()\n",
    "companyConcept.json()['units']['USD'][0]['val']\n",
    "# assetsData\n",
    "companyConcept.json()"
   ]
  }
 ],
 "metadata": {
  "kernelspec": {
   "display_name": ".venv",
   "language": "python",
   "name": "python3"
  },
  "language_info": {
   "codemirror_mode": {
    "name": "ipython",
    "version": 3
   },
   "file_extension": ".py",
   "mimetype": "text/x-python",
   "name": "python",
   "nbconvert_exporter": "python",
   "pygments_lexer": "ipython3",
   "version": "3.10.12"
  }
 },
 "nbformat": 4,
 "nbformat_minor": 2
}
